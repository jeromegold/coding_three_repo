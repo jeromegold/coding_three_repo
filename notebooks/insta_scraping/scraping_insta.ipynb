{
 "cells": [
  {
   "cell_type": "markdown",
   "id": "0652d75b",
   "metadata": {},
   "source": [
    "The code for this notebook has been modified from https://towardsdev.com/web-scrapping-instagram-with-python-selenium-11229e1b075. Note, to use this notebook requires a valid insta account with username and password. I have removed my password from the notebook. Can replace usernameValue and passwordValue with appropriate values. Selenium also needs to be installed. "
   ]
  },
  {
   "cell_type": "code",
   "execution_count": null,
   "id": "0933e4aa",
   "metadata": {},
   "outputs": [],
   "source": [
    "import os\n",
    "import wget"
   ]
  },
  {
   "cell_type": "code",
   "execution_count": null,
   "id": "97a56b49",
   "metadata": {},
   "outputs": [],
   "source": [
    "#Selenium imports \n",
    "from selenium import webdriver\n",
    "from selenium.webdriver.common.keys import Keys\n",
    "from selenium.webdriver.support import expected_conditions as EC\n",
    "from selenium.webdriver.common.by import By\n",
    "from selenium.webdriver.support.wait import WebDriverWait\n",
    "from selenium.webdriver.chrome.service import Service\n",
    "from webdriver_manager.chrome import ChromeDriverManager"
   ]
  },
  {
   "cell_type": "code",
   "execution_count": null,
   "id": "7c52e1f7",
   "metadata": {},
   "outputs": [],
   "source": [
    "driver = webdriver.Chrome(service=Service(ChromeDriverManager().install()))\n",
    "driver.get(\"https://www.instagram.com/\")"
   ]
  },
  {
   "cell_type": "code",
   "execution_count": null,
   "id": "04603aec",
   "metadata": {},
   "outputs": [],
   "source": [
    "usernameValue = \"***********\"\n",
    "passwordValue = \"***********\"\n",
    "username = WebDriverWait(driver, 10).until(EC.element_to_be_clickable((By.CSS_SELECTOR, \"input[name='username']\")))\n",
    "password = WebDriverWait(driver, 10).until(EC.element_to_be_clickable((By.CSS_SELECTOR, \"input[name='password']\")))\n",
    "\n",
    "username.clear()\n",
    "password.clear()\n",
    "\n",
    "username.send_keys(usernameValue)\n",
    "password.send_keys(passwordValue)\n",
    "login = WebDriverWait(driver, 10).until(EC.element_to_be_clickable((By.CSS_SELECTOR, \"button[type='submit']\"))).click()\n",
    "\n",
    "\n",
    "username.clear()\n",
    "password.clear()"
   ]
  },
  {
   "cell_type": "markdown",
   "id": "6f5da974",
   "metadata": {},
   "source": [
    "The cell below activates the entry points into instagram"
   ]
  },
  {
   "cell_type": "code",
   "execution_count": null,
   "id": "9732a842",
   "metadata": {},
   "outputs": [],
   "source": [
    "notNow = WebDriverWait(driver, 10).until(EC.element_to_be_clickable((By.XPATH, \"//button[contains(text(), 'Not Now')]\"))).click()\n",
    "notNow2 = WebDriverWait(driver, 10).until(EC.element_to_be_clickable((By.XPATH, \"//button[contains(text(), 'Not Now')]\"))).click()\n"
   ]
  },
  {
   "cell_type": "code",
   "execution_count": null,
   "id": "4926482e",
   "metadata": {},
   "outputs": [],
   "source": [
    "driver.execute_script(\"window.scrollTo(0, 10000);\")\n",
    "\n",
    "images = driver.find_elements_by_tag_name(\"img\")\n",
    "images = [image.get_attribute('src') for image in images]"
   ]
  },
  {
   "cell_type": "code",
   "execution_count": null,
   "id": "d666a04e",
   "metadata": {},
   "outputs": [],
   "source": [
    "path = os.getcwd()\n",
    "path = os.path.join(path, \"mg\")\n",
    "\n",
    "os.mkdir(path)"
   ]
  },
  {
   "cell_type": "code",
   "execution_count": null,
   "id": "ca5163e2",
   "metadata": {},
   "outputs": [],
   "source": [
    "counter = 0\n",
    "for img in images:\n",
    "    save_as = os.path.join(path, \"mg\" + str(counter) + '.jpeg')\n",
    "    wget.download(img, save_as)\n",
    "    counter+=1"
   ]
  },
  {
   "cell_type": "code",
   "execution_count": null,
   "id": "b0b2f0bd",
   "metadata": {},
   "outputs": [],
   "source": []
  }
 ],
 "metadata": {
  "kernelspec": {
   "display_name": "Python 3 (ipykernel)",
   "language": "python",
   "name": "python3"
  },
  "language_info": {
   "codemirror_mode": {
    "name": "ipython",
    "version": 3
   },
   "file_extension": ".py",
   "mimetype": "text/x-python",
   "name": "python",
   "nbconvert_exporter": "python",
   "pygments_lexer": "ipython3",
   "version": "3.9.12"
  }
 },
 "nbformat": 4,
 "nbformat_minor": 5
}
